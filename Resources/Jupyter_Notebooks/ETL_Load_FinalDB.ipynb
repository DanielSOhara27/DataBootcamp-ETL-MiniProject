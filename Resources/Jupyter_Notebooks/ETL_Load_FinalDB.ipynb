{
 "cells": [
  {
   "cell_type": "markdown",
   "metadata": {},
   "source": [
    "# Final ETL Load\n",
    "In this file we will load the resulting csv file to a MySQL database"
   ]
  },
  {
   "cell_type": "code",
   "execution_count": 3,
   "metadata": {},
   "outputs": [],
   "source": [
    "#We will start by importing all the dependencies\n",
    "import pymysql\n",
    "pymysql.install_as_MySQLdb()\n",
    "\n",
    "from os import path\n",
    "\n",
    "import pandas as pd\n",
    "\n",
    "from sqlalchemy import create_engine, Column, Integer, String, Float\n",
    "from sqlalchemy.ext.declarative import declarative_base\n",
    "\n",
    "from config import dbuser, dbpasswd, dburi, dbport, dbname\n",
    "\n",
    "Base = declarative_base()"
   ]
  },
  {
   "cell_type": "code",
   "execution_count": 4,
   "metadata": {},
   "outputs": [],
   "source": [
    "#We load the files\n",
    "file =  pd.read_csv(path.join(\"..\",\"Clean\",\"final_version\",\"final_database.csv\"), delimiter=\";\")\n",
    "zonas_patrullaje =  pd.read_csv(path.join(\"..\",\"Clean\",\"final_version\",\"final_zonas_patrullaje_df.csv\"), delimiter=\";\")\n",
    "crime_patrol =  pd.read_csv(path.join(\"..\",\"Clean\",\"final_version\",\"final_crime_patrol_pair.csv\"), delimiter=\";\")\n",
    "\n"
   ]
  },
  {
   "cell_type": "code",
   "execution_count": 5,
   "metadata": {},
   "outputs": [
    {
     "data": {
      "text/html": [
       "<div>\n",
       "<style scoped>\n",
       "    .dataframe tbody tr th:only-of-type {\n",
       "        vertical-align: middle;\n",
       "    }\n",
       "\n",
       "    .dataframe tbody tr th {\n",
       "        vertical-align: top;\n",
       "    }\n",
       "\n",
       "    .dataframe thead th {\n",
       "        text-align: right;\n",
       "    }\n",
       "</style>\n",
       "<table border=\"1\" class=\"dataframe\">\n",
       "  <thead>\n",
       "    <tr style=\"text-align: right;\">\n",
       "      <th></th>\n",
       "      <th>Año</th>\n",
       "      <th>Mes</th>\n",
       "      <th>Alcaldía</th>\n",
       "      <th>Categoría de delito</th>\n",
       "      <th>Delito</th>\n",
       "      <th>Unidad de investigación</th>\n",
       "      <th>Fecha inicio</th>\n",
       "      <th>Colonia</th>\n",
       "      <th>Geopoint</th>\n",
       "    </tr>\n",
       "  </thead>\n",
       "  <tbody>\n",
       "    <tr>\n",
       "      <th>0</th>\n",
       "      <td>2018</td>\n",
       "      <td>Octubre</td>\n",
       "      <td>ALVARO OBREGON</td>\n",
       "      <td>DELITO DE BAJO IMPACTO</td>\n",
       "      <td>ABUSO DE CONFIANZA</td>\n",
       "      <td>UI-3CD</td>\n",
       "      <td>2018-10-17 13:00:24</td>\n",
       "      <td>LAS AGUILAS 3ER PARQUE</td>\n",
       "      <td>19.35177196, -99.220583382</td>\n",
       "    </tr>\n",
       "    <tr>\n",
       "      <th>1</th>\n",
       "      <td>2018</td>\n",
       "      <td>Octubre</td>\n",
       "      <td>AZCAPOTZALCO</td>\n",
       "      <td>ROBO DE VEHÍCULO CON Y SIN VIOLENCIA</td>\n",
       "      <td>ROBO DE VEHICULO DE SERVICIO PÚBLICO CON VIOLE...</td>\n",
       "      <td>UI-3SD</td>\n",
       "      <td>2018-10-17 13:03:39</td>\n",
       "      <td>EL ROSARIO</td>\n",
       "      <td>19.5085668561, -99.2083000919</td>\n",
       "    </tr>\n",
       "    <tr>\n",
       "      <th>2</th>\n",
       "      <td>2018</td>\n",
       "      <td>Octubre</td>\n",
       "      <td>GUSTAVO A MADERO</td>\n",
       "      <td>DELITO DE BAJO IMPACTO</td>\n",
       "      <td>ROBO DE OBJETOS</td>\n",
       "      <td>UI-3CD</td>\n",
       "      <td>2018-10-17 13:05:09</td>\n",
       "      <td>GUADALUPE TEPEYAC</td>\n",
       "      <td>19.4663394581, -99.1243321831</td>\n",
       "    </tr>\n",
       "    <tr>\n",
       "      <th>3</th>\n",
       "      <td>2018</td>\n",
       "      <td>Octubre</td>\n",
       "      <td>GUSTAVO A MADERO</td>\n",
       "      <td>DELITO DE BAJO IMPACTO</td>\n",
       "      <td>ABUSO DE CONFIANZA</td>\n",
       "      <td>UI-3SD</td>\n",
       "      <td>2018-10-17 13:09:04</td>\n",
       "      <td>EMILIANO ZAPATA</td>\n",
       "      <td>19.4628200485, -99.1163214933</td>\n",
       "    </tr>\n",
       "    <tr>\n",
       "      <th>4</th>\n",
       "      <td>2018</td>\n",
       "      <td>Octubre</td>\n",
       "      <td>MIGUEL HIDALGO</td>\n",
       "      <td>ROBO A REPARTIDOR CON Y SIN VIOLENCIA</td>\n",
       "      <td>ROBO A REPARTIDOR SIN VIOLENCIA</td>\n",
       "      <td>UI-1SD</td>\n",
       "      <td>2018-10-17 13:09:22</td>\n",
       "      <td>PERIODISTA</td>\n",
       "      <td>19.4503050199, -99.2199589505</td>\n",
       "    </tr>\n",
       "  </tbody>\n",
       "</table>\n",
       "</div>"
      ],
      "text/plain": [
       "    Año      Mes          Alcaldía                    Categoría de delito  \\\n",
       "0  2018  Octubre    ALVARO OBREGON                 DELITO DE BAJO IMPACTO   \n",
       "1  2018  Octubre      AZCAPOTZALCO   ROBO DE VEHÍCULO CON Y SIN VIOLENCIA   \n",
       "2  2018  Octubre  GUSTAVO A MADERO                 DELITO DE BAJO IMPACTO   \n",
       "3  2018  Octubre  GUSTAVO A MADERO                 DELITO DE BAJO IMPACTO   \n",
       "4  2018  Octubre    MIGUEL HIDALGO  ROBO A REPARTIDOR CON Y SIN VIOLENCIA   \n",
       "\n",
       "                                              Delito Unidad de investigación  \\\n",
       "0                                 ABUSO DE CONFIANZA                  UI-3CD   \n",
       "1  ROBO DE VEHICULO DE SERVICIO PÚBLICO CON VIOLE...                  UI-3SD   \n",
       "2                                    ROBO DE OBJETOS                  UI-3CD   \n",
       "3                                 ABUSO DE CONFIANZA                  UI-3SD   \n",
       "4                    ROBO A REPARTIDOR SIN VIOLENCIA                  UI-1SD   \n",
       "\n",
       "          Fecha inicio                 Colonia                       Geopoint  \n",
       "0  2018-10-17 13:00:24  LAS AGUILAS 3ER PARQUE     19.35177196, -99.220583382  \n",
       "1  2018-10-17 13:03:39              EL ROSARIO  19.5085668561, -99.2083000919  \n",
       "2  2018-10-17 13:05:09       GUADALUPE TEPEYAC  19.4663394581, -99.1243321831  \n",
       "3  2018-10-17 13:09:04         EMILIANO ZAPATA  19.4628200485, -99.1163214933  \n",
       "4  2018-10-17 13:09:22              PERIODISTA  19.4503050199, -99.2199589505  "
      ]
     },
     "execution_count": 5,
     "metadata": {},
     "output_type": "execute_result"
    }
   ],
   "source": [
    "# And transform the SGJ Crime file to a pandas dataframe\n",
    "db = pd.DataFrame(file)\n",
    "db.head()"
   ]
  },
  {
   "cell_type": "code",
   "execution_count": 6,
   "metadata": {},
   "outputs": [
    {
     "data": {
      "text/html": [
       "<div>\n",
       "<style scoped>\n",
       "    .dataframe tbody tr th:only-of-type {\n",
       "        vertical-align: middle;\n",
       "    }\n",
       "\n",
       "    .dataframe tbody tr th {\n",
       "        vertical-align: top;\n",
       "    }\n",
       "\n",
       "    .dataframe thead th {\n",
       "        text-align: right;\n",
       "    }\n",
       "</style>\n",
       "<table border=\"1\" class=\"dataframe\">\n",
       "  <thead>\n",
       "    <tr style=\"text-align: right;\">\n",
       "      <th></th>\n",
       "      <th>Geopoint</th>\n",
       "      <th>Geoshape</th>\n",
       "      <th>Alcaldía</th>\n",
       "      <th>Sector 18</th>\n",
       "      <th>Área km2</th>\n",
       "      <th>x</th>\n",
       "      <th>y</th>\n",
       "      <th>mean</th>\n",
       "      <th>standard_Deviation</th>\n",
       "      <th>distances</th>\n",
       "    </tr>\n",
       "  </thead>\n",
       "  <tbody>\n",
       "    <tr>\n",
       "      <th>0</th>\n",
       "      <td>19.4559485754, -99.1339187632</td>\n",
       "      <td>{\"type\": \"Polygon\", \"coordinates\": [[[-99.1373...</td>\n",
       "      <td>CUAUHTEMOC</td>\n",
       "      <td>TLATELOLCO</td>\n",
       "      <td>0.599031</td>\n",
       "      <td>-99.133437</td>\n",
       "      <td>19.455969</td>\n",
       "      <td>0.527474</td>\n",
       "      <td>0.014291</td>\n",
       "      <td>[0.534167, 0.437955, 0.262072, 0.536854, 0.648...</td>\n",
       "    </tr>\n",
       "    <tr>\n",
       "      <th>1</th>\n",
       "      <td>19.4489311584, -99.1492549723</td>\n",
       "      <td>{\"type\": \"Polygon\", \"coordinates\": [[[-99.1529...</td>\n",
       "      <td>CUAUHTEMOC</td>\n",
       "      <td>BUENAVISTA</td>\n",
       "      <td>0.542691</td>\n",
       "      <td>-99.149153</td>\n",
       "      <td>19.448988</td>\n",
       "      <td>0.453007</td>\n",
       "      <td>0.006291</td>\n",
       "      <td>[0.526167, 0.320717, 0.468643, 0.542789, 0.444...</td>\n",
       "    </tr>\n",
       "    <tr>\n",
       "      <th>2</th>\n",
       "      <td>19.4466167038, -99.1372059309</td>\n",
       "      <td>{\"type\": \"Polygon\", \"coordinates\": [[[-99.1388...</td>\n",
       "      <td>CUAUHTEMOC</td>\n",
       "      <td>BUENAVISTA</td>\n",
       "      <td>0.139906</td>\n",
       "      <td>-99.136628</td>\n",
       "      <td>19.446343</td>\n",
       "      <td>0.309541</td>\n",
       "      <td>0.007696</td>\n",
       "      <td>[0.403358, 0.375808, 0.340076, 0.304342, 0.299...</td>\n",
       "    </tr>\n",
       "    <tr>\n",
       "      <th>3</th>\n",
       "      <td>19.4345863188, -99.1559474685</td>\n",
       "      <td>{\"type\": \"Polygon\", \"coordinates\": [[[-99.1587...</td>\n",
       "      <td>CUAUHTEMOC</td>\n",
       "      <td>REVOLUCION</td>\n",
       "      <td>0.263673</td>\n",
       "      <td>-99.156147</td>\n",
       "      <td>19.434677</td>\n",
       "      <td>0.362777</td>\n",
       "      <td>0.025262</td>\n",
       "      <td>[0.443341, 0.16611, 0.507736, 0.496656, 0.2699...</td>\n",
       "    </tr>\n",
       "    <tr>\n",
       "      <th>4</th>\n",
       "      <td>19.4287224255, -99.1566989128</td>\n",
       "      <td>{\"type\": \"Polygon\", \"coordinates\": [[[-99.1544...</td>\n",
       "      <td>CUAUHTEMOC</td>\n",
       "      <td>REVOLUCION</td>\n",
       "      <td>0.294612</td>\n",
       "      <td>-99.156832</td>\n",
       "      <td>19.428315</td>\n",
       "      <td>0.378270</td>\n",
       "      <td>0.007552</td>\n",
       "      <td>[0.469645, 0.426766, 0.407346, 0.198526, 0.457...</td>\n",
       "    </tr>\n",
       "  </tbody>\n",
       "</table>\n",
       "</div>"
      ],
      "text/plain": [
       "                        Geopoint  \\\n",
       "0  19.4559485754, -99.1339187632   \n",
       "1  19.4489311584, -99.1492549723   \n",
       "2  19.4466167038, -99.1372059309   \n",
       "3  19.4345863188, -99.1559474685   \n",
       "4  19.4287224255, -99.1566989128   \n",
       "\n",
       "                                            Geoshape    Alcaldía   Sector 18  \\\n",
       "0  {\"type\": \"Polygon\", \"coordinates\": [[[-99.1373...  CUAUHTEMOC  TLATELOLCO   \n",
       "1  {\"type\": \"Polygon\", \"coordinates\": [[[-99.1529...  CUAUHTEMOC  BUENAVISTA   \n",
       "2  {\"type\": \"Polygon\", \"coordinates\": [[[-99.1388...  CUAUHTEMOC  BUENAVISTA   \n",
       "3  {\"type\": \"Polygon\", \"coordinates\": [[[-99.1587...  CUAUHTEMOC  REVOLUCION   \n",
       "4  {\"type\": \"Polygon\", \"coordinates\": [[[-99.1544...  CUAUHTEMOC  REVOLUCION   \n",
       "\n",
       "   Área km2          x          y      mean  standard_Deviation  \\\n",
       "0  0.599031 -99.133437  19.455969  0.527474            0.014291   \n",
       "1  0.542691 -99.149153  19.448988  0.453007            0.006291   \n",
       "2  0.139906 -99.136628  19.446343  0.309541            0.007696   \n",
       "3  0.263673 -99.156147  19.434677  0.362777            0.025262   \n",
       "4  0.294612 -99.156832  19.428315  0.378270            0.007552   \n",
       "\n",
       "                                           distances  \n",
       "0  [0.534167, 0.437955, 0.262072, 0.536854, 0.648...  \n",
       "1  [0.526167, 0.320717, 0.468643, 0.542789, 0.444...  \n",
       "2  [0.403358, 0.375808, 0.340076, 0.304342, 0.299...  \n",
       "3  [0.443341, 0.16611, 0.507736, 0.496656, 0.2699...  \n",
       "4  [0.469645, 0.426766, 0.407346, 0.198526, 0.457...  "
      ]
     },
     "execution_count": 6,
     "metadata": {},
     "output_type": "execute_result"
    }
   ],
   "source": [
    "# And transform the Patrol Zones file to a pandas dataframe\n",
    "zonas_patrullaje_df = pd.DataFrame(zonas_patrullaje)\n",
    "zonas_patrullaje_df.head()"
   ]
  },
  {
   "cell_type": "code",
   "execution_count": 7,
   "metadata": {},
   "outputs": [
    {
     "data": {
      "text/html": [
       "<div>\n",
       "<style scoped>\n",
       "    .dataframe tbody tr th:only-of-type {\n",
       "        vertical-align: middle;\n",
       "    }\n",
       "\n",
       "    .dataframe tbody tr th {\n",
       "        vertical-align: top;\n",
       "    }\n",
       "\n",
       "    .dataframe thead th {\n",
       "        text-align: right;\n",
       "    }\n",
       "</style>\n",
       "<table border=\"1\" class=\"dataframe\">\n",
       "  <thead>\n",
       "    <tr style=\"text-align: right;\">\n",
       "      <th></th>\n",
       "      <th>crime_index</th>\n",
       "      <th>patrol_index</th>\n",
       "    </tr>\n",
       "  </thead>\n",
       "  <tbody>\n",
       "    <tr>\n",
       "      <th>0</th>\n",
       "      <td>27</td>\n",
       "      <td>0</td>\n",
       "    </tr>\n",
       "    <tr>\n",
       "      <th>1</th>\n",
       "      <td>68</td>\n",
       "      <td>0</td>\n",
       "    </tr>\n",
       "    <tr>\n",
       "      <th>2</th>\n",
       "      <td>205</td>\n",
       "      <td>0</td>\n",
       "    </tr>\n",
       "    <tr>\n",
       "      <th>3</th>\n",
       "      <td>285</td>\n",
       "      <td>0</td>\n",
       "    </tr>\n",
       "    <tr>\n",
       "      <th>4</th>\n",
       "      <td>340</td>\n",
       "      <td>0</td>\n",
       "    </tr>\n",
       "  </tbody>\n",
       "</table>\n",
       "</div>"
      ],
      "text/plain": [
       "   crime_index  patrol_index\n",
       "0           27             0\n",
       "1           68             0\n",
       "2          205             0\n",
       "3          285             0\n",
       "4          340             0"
      ]
     },
     "execution_count": 7,
     "metadata": {},
     "output_type": "execute_result"
    }
   ],
   "source": [
    "# And transform the Patrol Zones file to a pandas dataframe\n",
    "crime_patrol_df = pd.DataFrame(crime_patrol)\n",
    "crime_patrol_df.head()"
   ]
  },
  {
   "cell_type": "code",
   "execution_count": 4,
   "metadata": {},
   "outputs": [],
   "source": [
    "#We create a class that will represent the delitos table from the MySQL table\n",
    "class delitos(Base):\n",
    "    __tablename__=\"delitos\"\n",
    "    id = Column(Integer, primary_key=True)\n",
    "    Año = Column(Integer)\n",
    "    Mes = Column(String)\n",
    "    Alcaldia = Column(String)\n",
    "    Categoria_del_delito = Column(String)\n",
    "    Delito = Column(String)\n",
    "    Unidad_de_inestigacion = Column(String)\n",
    "    Fecha_inicio = Column(String)\n",
    "    Colonia = Column(String)\n",
    "    Geopoint = Column(String)\n",
    "    Zona_patrullaje = Column(String)"
   ]
  },
  {
   "cell_type": "code",
   "execution_count": 8,
   "metadata": {},
   "outputs": [],
   "source": [
    "#We create a class that will represent the zonas_patrullaje table from the MySQL table\n",
    "class zonas_patrullaje(Base):\n",
    "    __tablename__=\"zonas_patrullaje\"\n",
    "    id = Column(Integer, primary_key=True)\n",
    "    Geopoint = Column(String)\n",
    "    Geoshape = Column(String)\n",
    "    Alcaldia = Column(String)\n",
    "    Sector_18 = Column(String)\n",
    "    Area = Column(Float)\n",
    "    x = Column(Float)\n",
    "    y = Column(Float)\n",
    "    mean = Column(Float)\n",
    "    standard_deviation = Column(Float)\n",
    "    Zona_patrullaje = Column(String)"
   ]
  },
  {
   "cell_type": "code",
   "execution_count": 9,
   "metadata": {},
   "outputs": [],
   "source": [
    "#We create a class that will represent the crimes_patrol_pair table from the MySQL table\n",
    "class delitos_zonas_patrullaje(Base):\n",
    "    __tablename__=\"delitos_zonas_patrullaje\"\n",
    "    id = Column(Integer, primary_key=True)\n",
    "    Crime_index = Column(Integer)\n",
    "    Patrol_index = Column(Integer)    "
   ]
  },
  {
   "cell_type": "code",
   "execution_count": 10,
   "metadata": {},
   "outputs": [
    {
     "data": {
      "text/plain": [
       "immutabledict({'zonas_patrullaje': Table('zonas_patrullaje', MetaData(bind=None), Column('id', Integer(), table=<zonas_patrullaje>, primary_key=True, nullable=False), Column('Geopoint', String(), table=<zonas_patrullaje>), Column('Geoshape', String(), table=<zonas_patrullaje>), Column('Alcaldia', String(), table=<zonas_patrullaje>), Column('Sector_18', String(), table=<zonas_patrullaje>), Column('Area', Float(), table=<zonas_patrullaje>), Column('x', Float(), table=<zonas_patrullaje>), Column('y', Float(), table=<zonas_patrullaje>), Column('mean', Float(), table=<zonas_patrullaje>), Column('standard_deviation', Float(), table=<zonas_patrullaje>), Column('Zona_patrullaje', String(), table=<zonas_patrullaje>), schema=None), 'delitos_zonas_patrullaje': Table('delitos_zonas_patrullaje', MetaData(bind=None), Column('id', Integer(), table=<delitos_zonas_patrullaje>, primary_key=True, nullable=False), Column('Crime_index', Integer(), table=<delitos_zonas_patrullaje>), Column('Patrol_index', Integer(), table=<delitos_zonas_patrullaje>), schema=None)})"
      ]
     },
     "execution_count": 10,
     "metadata": {},
     "output_type": "execute_result"
    }
   ],
   "source": [
    "#Inspect the table we created\n",
    "Base.metadata.tables"
   ]
  },
  {
   "cell_type": "code",
   "execution_count": 11,
   "metadata": {},
   "outputs": [],
   "source": [
    "#Start engine to our MySQL database\n",
    "engine = create_engine(f\"mysql://{dbuser}:{dbpasswd}@{dburi}:{dbport}/{dbname}\")"
   ]
  },
  {
   "cell_type": "code",
   "execution_count": 12,
   "metadata": {},
   "outputs": [],
   "source": [
    "#Create but first checks if it allready exists\n",
    "Base.metadata.create_all(engine, checkfirst=True)"
   ]
  },
  {
   "cell_type": "code",
   "execution_count": 13,
   "metadata": {},
   "outputs": [],
   "source": [
    "#We start the session\n",
    "from sqlalchemy.orm import Session\n",
    "session = Session(engine)"
   ]
  },
  {
   "cell_type": "markdown",
   "metadata": {},
   "source": [
    "# We now begin to insert data\n",
    "## This is a heavy load and will take considerable amount of time"
   ]
  },
  {
   "cell_type": "code",
   "execution_count": 9,
   "metadata": {},
   "outputs": [],
   "source": [
    "# There are atleast 250K rows\n",
    "#We iterate across the local SGJ Crimes dataframe, for each row we add it to the session\n",
    "for row in db.iterrows() :\n",
    "    session.add(delitos(Año=row[1][0],Mes=row[1][1],Alcaldia=row[1][2],Categoria_del_delito=row[1][3],\n",
    "                        Delito=row[1][4],Unidad_de_inestigacion=row[1][5],Fecha_inicio=row[1][6],\n",
    "                       Colonia=row[1][7],Geopoint=row[1][8],Zona_patrullaje=row[1][9]))\n",
    "   #print(row[1][0])"
   ]
  },
  {
   "cell_type": "code",
   "execution_count": 10,
   "metadata": {},
   "outputs": [],
   "source": [
    "#We commit the information to the database\n",
    "session.commit()"
   ]
  },
  {
   "cell_type": "code",
   "execution_count": null,
   "metadata": {},
   "outputs": [],
   "source": [
    "# There are 698 rows\n",
    "# We iterate across the local Patrol Zones dataframe, for each row we add it to the session\n",
    "for row in zonas_patrullaje_df.iterrows():\n",
    "    session.add(zonas_patrullaje(Geopoint=row[1][0],Geoshape=row[1][1]),Alcaldia=row[1][2],Sector_18=row[1][3],\n",
    "                Area=row[1][4],x=row[1][5],y=row[1][6],\n",
    "               mean=row[1][7],standard_deviation=row[1][8],Zona_patrullaje=row[1][9])\n",
    "    "
   ]
  },
  {
   "cell_type": "code",
   "execution_count": null,
   "metadata": {},
   "outputs": [],
   "source": [
    "session.commit()"
   ]
  },
  {
   "cell_type": "code",
   "execution_count": null,
   "metadata": {},
   "outputs": [],
   "source": [
    "# There are more than 1 million rows (I couldn't count them all before my computer failed LITERALLY) <-----  ¡SUPER IMPORTANT!\n",
    "# My computer's memory ran out and crashed, therefore I am commiting after each row.\n",
    "# This IS ineficient, but it will stop the computer from running out of memory.\n",
    "\n",
    "\n",
    "#We iterate across the local patrol_Crimes_pairs dataframe, for each row we add it to the session\n",
    "for row in crime_patrol_df.iterrows() :\n",
    "    session.add(delitos_zonas_patrullaje(Crime_index=row[1][0],Patrol_index=row[1][1]))\n",
    "    \n",
    "    #Committing after each row instead of buckets because 1 is the smallest common denominator\n",
    "    session.commit()\n",
    "    "
   ]
  }
 ],
 "metadata": {
  "kernelspec": {
   "display_name": "Python 3",
   "language": "python",
   "name": "python3"
  },
  "language_info": {
   "codemirror_mode": {
    "name": "ipython",
    "version": 3
   },
   "file_extension": ".py",
   "mimetype": "text/x-python",
   "name": "python",
   "nbconvert_exporter": "python",
   "pygments_lexer": "ipython3",
   "version": "3.7.1"
  }
 },
 "nbformat": 4,
 "nbformat_minor": 2
}
