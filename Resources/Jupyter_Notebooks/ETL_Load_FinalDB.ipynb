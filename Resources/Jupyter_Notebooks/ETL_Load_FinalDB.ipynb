{
 "cells": [
  {
   "cell_type": "markdown",
   "metadata": {},
   "source": [
    "# Final ETL Load\n",
    "In this file we will load the resulting csv file to a MySQL database"
   ]
  },
  {
   "cell_type": "code",
   "execution_count": 1,
   "metadata": {},
   "outputs": [],
   "source": [
    "#We will start by importing all the dependencies\n",
    "\n",
    "import pandas as pd\n",
    "\n",
    "from sqlalchemy import create_engine, Column, Integer, String\n",
    "from sqlalchemy.ext.declarative import declarative_base\n",
    "\n",
    "from config import dbuser, dbpasswd, dburi, dbport, dbname\n",
    "\n",
    "Base = declarative_base()"
   ]
  },
  {
   "cell_type": "code",
   "execution_count": 2,
   "metadata": {},
   "outputs": [],
   "source": [
    "#We load the file\n",
    "file =  pd.read_csv(\"../Clean/final_version/final_database.csv\", delimiter=\";\")"
   ]
  },
  {
   "cell_type": "code",
   "execution_count": 3,
   "metadata": {},
   "outputs": [
    {
     "data": {
      "text/html": [
       "<div>\n",
       "<style scoped>\n",
       "    .dataframe tbody tr th:only-of-type {\n",
       "        vertical-align: middle;\n",
       "    }\n",
       "\n",
       "    .dataframe tbody tr th {\n",
       "        vertical-align: top;\n",
       "    }\n",
       "\n",
       "    .dataframe thead th {\n",
       "        text-align: right;\n",
       "    }\n",
       "</style>\n",
       "<table border=\"1\" class=\"dataframe\">\n",
       "  <thead>\n",
       "    <tr style=\"text-align: right;\">\n",
       "      <th></th>\n",
       "      <th>Año</th>\n",
       "      <th>Mes</th>\n",
       "      <th>Alcaldía</th>\n",
       "      <th>Categoría de delito</th>\n",
       "      <th>Delito</th>\n",
       "      <th>Unidad de investigación</th>\n",
       "      <th>Fecha inicio</th>\n",
       "      <th>Colonia</th>\n",
       "      <th>Geopoint</th>\n",
       "    </tr>\n",
       "  </thead>\n",
       "  <tbody>\n",
       "    <tr>\n",
       "      <th>0</th>\n",
       "      <td>2018</td>\n",
       "      <td>Octubre</td>\n",
       "      <td>ALVARO OBREGON</td>\n",
       "      <td>DELITO DE BAJO IMPACTO</td>\n",
       "      <td>ABUSO DE CONFIANZA</td>\n",
       "      <td>UI-3CD</td>\n",
       "      <td>2018-10-17 13:00:24</td>\n",
       "      <td>LAS AGUILAS 3ER PARQUE</td>\n",
       "      <td>19.35177196, -99.220583382</td>\n",
       "    </tr>\n",
       "    <tr>\n",
       "      <th>1</th>\n",
       "      <td>2018</td>\n",
       "      <td>Octubre</td>\n",
       "      <td>AZCAPOTZALCO</td>\n",
       "      <td>ROBO DE VEHÍCULO CON Y SIN VIOLENCIA</td>\n",
       "      <td>ROBO DE VEHICULO DE SERVICIO PÚBLICO CON VIOLE...</td>\n",
       "      <td>UI-3SD</td>\n",
       "      <td>2018-10-17 13:03:39</td>\n",
       "      <td>EL ROSARIO</td>\n",
       "      <td>19.5085668561, -99.2083000919</td>\n",
       "    </tr>\n",
       "    <tr>\n",
       "      <th>2</th>\n",
       "      <td>2018</td>\n",
       "      <td>Octubre</td>\n",
       "      <td>GUSTAVO A MADERO</td>\n",
       "      <td>DELITO DE BAJO IMPACTO</td>\n",
       "      <td>ROBO DE OBJETOS</td>\n",
       "      <td>UI-3CD</td>\n",
       "      <td>2018-10-17 13:05:09</td>\n",
       "      <td>GUADALUPE TEPEYAC</td>\n",
       "      <td>19.4663394581, -99.1243321831</td>\n",
       "    </tr>\n",
       "    <tr>\n",
       "      <th>3</th>\n",
       "      <td>2018</td>\n",
       "      <td>Octubre</td>\n",
       "      <td>GUSTAVO A MADERO</td>\n",
       "      <td>DELITO DE BAJO IMPACTO</td>\n",
       "      <td>ABUSO DE CONFIANZA</td>\n",
       "      <td>UI-3SD</td>\n",
       "      <td>2018-10-17 13:09:04</td>\n",
       "      <td>EMILIANO ZAPATA</td>\n",
       "      <td>19.4628200485, -99.1163214933</td>\n",
       "    </tr>\n",
       "    <tr>\n",
       "      <th>4</th>\n",
       "      <td>2018</td>\n",
       "      <td>Octubre</td>\n",
       "      <td>MIGUEL HIDALGO</td>\n",
       "      <td>ROBO A REPARTIDOR CON Y SIN VIOLENCIA</td>\n",
       "      <td>ROBO A REPARTIDOR SIN VIOLENCIA</td>\n",
       "      <td>UI-1SD</td>\n",
       "      <td>2018-10-17 13:09:22</td>\n",
       "      <td>PERIODISTA</td>\n",
       "      <td>19.4503050199, -99.2199589505</td>\n",
       "    </tr>\n",
       "  </tbody>\n",
       "</table>\n",
       "</div>"
      ],
      "text/plain": [
       "    Año      Mes          Alcaldía                    Categoría de delito  \\\n",
       "0  2018  Octubre    ALVARO OBREGON                 DELITO DE BAJO IMPACTO   \n",
       "1  2018  Octubre      AZCAPOTZALCO   ROBO DE VEHÍCULO CON Y SIN VIOLENCIA   \n",
       "2  2018  Octubre  GUSTAVO A MADERO                 DELITO DE BAJO IMPACTO   \n",
       "3  2018  Octubre  GUSTAVO A MADERO                 DELITO DE BAJO IMPACTO   \n",
       "4  2018  Octubre    MIGUEL HIDALGO  ROBO A REPARTIDOR CON Y SIN VIOLENCIA   \n",
       "\n",
       "                                              Delito Unidad de investigación  \\\n",
       "0                                 ABUSO DE CONFIANZA                  UI-3CD   \n",
       "1  ROBO DE VEHICULO DE SERVICIO PÚBLICO CON VIOLE...                  UI-3SD   \n",
       "2                                    ROBO DE OBJETOS                  UI-3CD   \n",
       "3                                 ABUSO DE CONFIANZA                  UI-3SD   \n",
       "4                    ROBO A REPARTIDOR SIN VIOLENCIA                  UI-1SD   \n",
       "\n",
       "          Fecha inicio                 Colonia                       Geopoint  \n",
       "0  2018-10-17 13:00:24  LAS AGUILAS 3ER PARQUE     19.35177196, -99.220583382  \n",
       "1  2018-10-17 13:03:39              EL ROSARIO  19.5085668561, -99.2083000919  \n",
       "2  2018-10-17 13:05:09       GUADALUPE TEPEYAC  19.4663394581, -99.1243321831  \n",
       "3  2018-10-17 13:09:04         EMILIANO ZAPATA  19.4628200485, -99.1163214933  \n",
       "4  2018-10-17 13:09:22              PERIODISTA  19.4503050199, -99.2199589505  "
      ]
     },
     "execution_count": 3,
     "metadata": {},
     "output_type": "execute_result"
    }
   ],
   "source": [
    "# And transform the file to a pandas dataframe\n",
    "db = pd.DataFrame(file)\n",
    "db.head()"
   ]
  },
  {
   "cell_type": "code",
   "execution_count": 4,
   "metadata": {},
   "outputs": [],
   "source": [
    "#We create a class that will represent the table from the MySQL table\n",
    "class delitos(Base):\n",
    "    __tablename__=\"delitos\"\n",
    "    id = Column(Integer, primary_key=True)\n",
    "    Año = Column(Integer)\n",
    "    Mes = Column(String)\n",
    "    Alcaldia = Column(String)\n",
    "    Categoria_del_delito = Column(String)\n",
    "    Delito = Column(String)\n",
    "    Unidad_de_inestigacion = Column(String)\n",
    "    Fecha_inicio = Column(String)\n",
    "    Colonia = Column(String)\n",
    "    Geopoint = Column(String)\n",
    "    Zona_patrullaje = Column(String)"
   ]
  },
  {
   "cell_type": "code",
   "execution_count": 5,
   "metadata": {},
   "outputs": [
    {
     "data": {
      "text/plain": [
       "immutabledict({'delitos': Table('delitos', MetaData(bind=None), Column('id', Integer(), table=<delitos>, primary_key=True, nullable=False), Column('Año', Integer(), table=<delitos>), Column('Mes', String(), table=<delitos>), Column('Alcaldia', String(), table=<delitos>), Column('Categoria_del_delito', String(), table=<delitos>), Column('Delito', String(), table=<delitos>), Column('Unidad_de_inestigacion', String(), table=<delitos>), Column('Fecha_inicio', String(), table=<delitos>), Column('Colonia', String(), table=<delitos>), Column('Geopoint', String(), table=<delitos>), schema=None)})"
      ]
     },
     "execution_count": 5,
     "metadata": {},
     "output_type": "execute_result"
    }
   ],
   "source": [
    "#Inspect the table we created\n",
    "Base.metadata.tables"
   ]
  },
  {
   "cell_type": "code",
   "execution_count": 6,
   "metadata": {},
   "outputs": [],
   "source": [
    "#Start engine to our MySQL database\n",
    "engine = create_engine(f\"mysql://{dbuser}:{dbpasswd}@{dburi}:{dbport}/{dbname}\")"
   ]
  },
  {
   "cell_type": "code",
   "execution_count": 7,
   "metadata": {},
   "outputs": [],
   "source": [
    "#Create but first checks if it allready exists\n",
    "Base.metadata.create_all(engine, checkfirst=True)"
   ]
  },
  {
   "cell_type": "code",
   "execution_count": 8,
   "metadata": {},
   "outputs": [],
   "source": [
    "#We start the session\n",
    "from sqlalchemy.orm import Session\n",
    "session = Session(engine)"
   ]
  },
  {
   "cell_type": "code",
   "execution_count": 9,
   "metadata": {},
   "outputs": [],
   "source": [
    "#We iterate across the local dataframe, for each row we add it to the session\n",
    "for row in db.iterrows() :\n",
    "    session.add(delitos(Año=row[1][0],Mes=row[1][1],Alcaldia=row[1][2],Categoria_del_delito=row[1][3],\n",
    "                        Delito=row[1][4],Unidad_de_inestigacion=row[1][5],Fecha_inicio=row[1][6],\n",
    "                       Colonia=row[1][7],Geopoint=row[1][8],Zona_patrullaje=row[1][9]))\n",
    "   #print(row[1][0])"
   ]
  },
  {
   "cell_type": "code",
   "execution_count": 10,
   "metadata": {},
   "outputs": [],
   "source": [
    "#We commit the information to the database\n",
    "session.commit()"
   ]
  }
 ],
 "metadata": {
  "kernelspec": {
   "display_name": "Python 3",
   "language": "python",
   "name": "python3"
  },
  "language_info": {
   "codemirror_mode": {
    "name": "ipython",
    "version": 3
   },
   "file_extension": ".py",
   "mimetype": "text/x-python",
   "name": "python",
   "nbconvert_exporter": "python",
   "pygments_lexer": "ipython3",
   "version": "3.6.5"
  }
 },
 "nbformat": 4,
 "nbformat_minor": 2
}
